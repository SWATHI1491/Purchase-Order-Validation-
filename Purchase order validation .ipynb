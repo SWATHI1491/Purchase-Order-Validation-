{
 "cells": [
  {
   "cell_type": "code",
   "execution_count": 1,
   "id": "63844e19",
   "metadata": {},
   "outputs": [
    {
     "name": "stdout",
     "output_type": "stream",
     "text": [
      "Requirement already satisfied: pandas in c:\\users\\swath\\appdata\\local\\programs\\python\\python310\\lib\\site-packages (2.0.0)\n",
      "Requirement already satisfied: python-dateutil>=2.8.2 in c:\\users\\swath\\appdata\\local\\programs\\python\\python310\\lib\\site-packages (from pandas) (2.8.2)\n",
      "Requirement already satisfied: pytz>=2020.1 in c:\\users\\swath\\appdata\\local\\programs\\python\\python310\\lib\\site-packages (from pandas) (2023.3)\n",
      "Requirement already satisfied: tzdata>=2022.1 in c:\\users\\swath\\appdata\\local\\programs\\python\\python310\\lib\\site-packages (from pandas) (2023.3)\n",
      "Requirement already satisfied: numpy>=1.21.0 in c:\\users\\swath\\appdata\\local\\programs\\python\\python310\\lib\\site-packages (from pandas) (1.24.2)\n",
      "Requirement already satisfied: six>=1.5 in c:\\users\\swath\\appdata\\local\\programs\\python\\python310\\lib\\site-packages (from python-dateutil>=2.8.2->pandas) (1.16.0)\n",
      "Note: you may need to restart the kernel to use updated packages.\n"
     ]
    },
    {
     "name": "stderr",
     "output_type": "stream",
     "text": [
      "\n",
      "[notice] A new release of pip is available: 23.1 -> 24.0\n",
      "[notice] To update, run: python.exe -m pip install --upgrade pip\n"
     ]
    }
   ],
   "source": [
    "pip install pandas"
   ]
  },
  {
   "cell_type": "code",
   "execution_count": 2,
   "id": "c9a32c7a",
   "metadata": {},
   "outputs": [
    {
     "name": "stdout",
     "output_type": "stream",
     "text": [
      "Purchase Orders:\n",
      "  po_number item_code supplier_id  quantity  price_per_unit\n",
      "0   PO12345   ITEM001     SUPP001       100            10.5\n",
      "1   PO12346   ITEM002     SUPP002        10             5.0\n",
      "\n",
      "Product Catalog:\n",
      "  item_code    name  min_price  max_price\n",
      "0   ITEM001  Item 1         10         20\n",
      "1   ITEM002  Item 2          5         15\n",
      "\n",
      "Suppliers:\n",
      "  supplier_id\n",
      "0     SUPP001\n",
      "1     SUPP002\n",
      "2     SUPP003\n"
     ]
    }
   ],
   "source": [
    "import pandas as pd\n",
    "\n",
    "# Sample data\n",
    "purchase_orders = [\n",
    "    {\n",
    "        \"po_number\": \"PO12345\",\n",
    "        \"item_code\": \"ITEM001\",\n",
    "        \"supplier_id\": \"SUPP001\",\n",
    "        \"quantity\": 100,\n",
    "        \"price_per_unit\": 10.50\n",
    "    },\n",
    "    {\n",
    "        \"po_number\": \"PO12346\",\n",
    "        \"item_code\": \"ITEM002\",\n",
    "        \"supplier_id\": \"SUPP002\",\n",
    "        \"quantity\": 10,\n",
    "        \"price_per_unit\": 5.00\n",
    "    }\n",
    "]\n",
    "\n",
    "product_catalog = {\n",
    "    \"ITEM001\": {\"name\": \"Item 1\", \"min_price\": 10, \"max_price\": 20},\n",
    "    \"ITEM002\": {\"name\": \"Item 2\", \"min_price\": 5, \"max_price\": 15},\n",
    "}\n",
    "\n",
    "suppliers = [\"SUPP001\", \"SUPP002\", \"SUPP003\"]\n",
    "\n",
    "# Convert purchase orders to DataFrame\n",
    "po_df = pd.DataFrame(purchase_orders)\n",
    "\n",
    "# Convert product catalog to DataFrame\n",
    "product_catalog_df = pd.DataFrame.from_dict(product_catalog, orient='index').reset_index()\n",
    "product_catalog_df.columns = ['item_code', 'name', 'min_price', 'max_price']\n",
    "\n",
    "# Convert suppliers to DataFrame\n",
    "suppliers_df = pd.DataFrame(suppliers, columns=['supplier_id'])\n",
    "\n",
    "# Display the tables\n",
    "print(\"Purchase Orders:\")\n",
    "print(po_df)\n",
    "print(\"\\nProduct Catalog:\")\n",
    "print(product_catalog_df)\n",
    "print(\"\\nSuppliers:\")\n",
    "print(suppliers_df)\n"
   ]
  },
  {
   "cell_type": "code",
   "execution_count": 3,
   "id": "f749ad45",
   "metadata": {},
   "outputs": [
    {
     "name": "stdout",
     "output_type": "stream",
     "text": [
      "PO PO12345 is valid.\n",
      "PO PO12346 is valid.\n"
     ]
    }
   ],
   "source": [
    "def validate_purchase_order(po, product_catalog, suppliers):\n",
    "    errors = []\n",
    "    \n",
    "    # Check if item code exists in the product catalog\n",
    "    if po[\"item_code\"] not in product_catalog:\n",
    "        errors.append(f\"Invalid item code: {po['item_code']}\")\n",
    "        \n",
    "    # Check if supplier ID is valid\n",
    "    if po[\"supplier_id\"] not in suppliers:\n",
    "        errors.append(f\"Invalid supplier ID: {po['supplier_id']}\")\n",
    "        \n",
    "    # Check if quantity is positive\n",
    "    if po[\"quantity\"] <= 0:\n",
    "        errors.append(f\"Invalid quantity: {po['quantity']}\")\n",
    "        \n",
    "    # Check if price per unit is within the valid range\n",
    "    if po[\"item_code\"] in product_catalog:\n",
    "        item = product_catalog[po[\"item_code\"]]\n",
    "        if not (item[\"min_price\"] <= po[\"price_per_unit\"] <= item[\"max_price\"]):\n",
    "            errors.append(f\"Invalid price: {po['price_per_unit']} for item {po['item_code']}\")\n",
    "    \n",
    "    return errors\n",
    "\n",
    "# Function to validate a list of purchase orders\n",
    "def validate_purchase_orders(purchase_orders, product_catalog, suppliers):\n",
    "    for po in purchase_orders:\n",
    "        errors = validate_purchase_order(po, product_catalog, suppliers)\n",
    "        if errors:\n",
    "            print(f\"Errors in PO {po['po_number']}: {errors}\")\n",
    "        else:\n",
    "            print(f\"PO {po['po_number']} is valid.\")\n",
    "\n",
    "# Validate sample purchase orders\n",
    "validate_purchase_orders(purchase_orders, product_catalog, suppliers)\n"
   ]
  },
  {
   "cell_type": "code",
   "execution_count": null,
   "id": "c3fab7fb",
   "metadata": {},
   "outputs": [],
   "source": []
  }
 ],
 "metadata": {
  "kernelspec": {
   "display_name": "Python 3 (ipykernel)",
   "language": "python",
   "name": "python3"
  },
  "language_info": {
   "codemirror_mode": {
    "name": "ipython",
    "version": 3
   },
   "file_extension": ".py",
   "mimetype": "text/x-python",
   "name": "python",
   "nbconvert_exporter": "python",
   "pygments_lexer": "ipython3",
   "version": "3.10.11"
  }
 },
 "nbformat": 4,
 "nbformat_minor": 5
}
